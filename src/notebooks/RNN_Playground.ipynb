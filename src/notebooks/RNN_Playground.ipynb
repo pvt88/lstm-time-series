{
 "cells": [
  {
   "cell_type": "code",
   "execution_count": 509,
   "metadata": {
    "collapsed": false
   },
   "outputs": [],
   "source": [
    "import numpy as np\n",
    "import tensorflow as tf\n",
    "\n",
    "import matplotlib.pyplot as plt\n",
    "%matplotlib inline"
   ]
  },
  {
   "cell_type": "code",
   "execution_count": 510,
   "metadata": {
    "collapsed": true
   },
   "outputs": [],
   "source": [
    "# Global config variables\n",
    "BATCH_SIZE = 200\n",
    "NUM_CLASSES = 2\n",
    "LEARNING_RATE = 0.1"
   ]
  },
  {
   "cell_type": "markdown",
   "metadata": {},
   "source": [
    "## Generate sample time series data"
   ]
  },
  {
   "cell_type": "code",
   "execution_count": 511,
   "metadata": {
    "collapsed": false
   },
   "outputs": [],
   "source": [
    "def gen_data(size=1000000):\n",
    "    X = np.array(np.random.choice(2, size=(size,)))\n",
    "    Y = []\n",
    "    for i in range(size):\n",
    "        threshold = 0.5\n",
    "        if X[i-3] == 1:\n",
    "            threshold += 0.5\n",
    "        if X[i-8] == 1:\n",
    "            threshold -= 0.25\n",
    "        if np.random.rand() > threshold:\n",
    "            Y.append(0)\n",
    "        else:\n",
    "            Y.append(1)\n",
    "    return X, np.array(Y)\n",
    "\n",
    "def gen_batch(raw_data, sequence_length, batch_size):\n",
    "    raw_x, raw_y = raw_data\n",
    "    data_length = len(raw_x)\n",
    "\n",
    "    # partition raw data into batches and stack them vertically in a data matrix\n",
    "    batch_partition_length = data_length // batch_size\n",
    "    data_x = np.zeros([batch_size, batch_partition_length], dtype=np.int32)\n",
    "    data_y = np.zeros([batch_size, batch_partition_length], dtype=np.int32)\n",
    "    for i in range(batch_size):\n",
    "        data_x[i] = raw_x[batch_partition_length * i:batch_partition_length * (i + 1)]\n",
    "        data_y[i] = raw_y[batch_partition_length * i:batch_partition_length * (i + 1)]\n",
    "    # further divide batch partitions into sequence_length for truncated backprop\n",
    "    epoch_size = batch_partition_length // sequence_length\n",
    "    for i in range(epoch_size):\n",
    "        x = data_x[:, i * sequence_length:(i + 1) * sequence_length]\n",
    "        y = data_y[:, i * sequence_length:(i + 1) * sequence_length]\n",
    "        yield (x, y)\n",
    "\n",
    "def gen_epochs(n, sequence_length):\n",
    "    (X, Y) = gen_data()\n",
    "    for i in range(n):\n",
    "        yield gen_batch((X, Y), sequence_length, batch_size = BATCH_SIZE)"
   ]
  },
  {
   "cell_type": "markdown",
   "metadata": {},
   "source": [
    "## Constructing RNN\n",
    "\n",
    "The Basic RNN model:\n",
    "\n",
    "$S_t = tanh ( W . [X_t, S_{t-1}] + b_s)$\n",
    "\n",
    "$O_t = \\sigma (U . S_t + b_o)$\n",
    "\n",
    "where\n",
    "\n",
    "$X_t \\in R^{n}$ is the input\n",
    "\n",
    "$S_t \\in R^{h}$ is the internal (memory) state\n",
    "\n",
    "$O_t \\in R^{m}$ is the output\n",
    "\n",
    "$W \\in W^{h \\times (n + h)}$\n",
    "\n",
    "$U \\in W^{m \\times h}$\n"
   ]
  },
  {
   "cell_type": "code",
   "execution_count": 512,
   "metadata": {
    "collapsed": false
   },
   "outputs": [],
   "source": [
    "def setup_network(state_size, sequence_length, batch_size=BATCH_SIZE, num_classes=NUM_CLASSES):\n",
    "    \"\"\" Set up the RNN graph.\n",
    "    \n",
    "    Args:\n",
    "        state_size: int, The length of the input sequence.\n",
    "        sequence_length: int, The length of the input sequence. This is the same as 'num_steps', which\n",
    "                         is number of steps the error at time T shall be backpropagated in times. See\n",
    "                         https://www.tensorflow.org/tutorials/recurrent#truncated-backpropagation\n",
    "      \n",
    "    \"\"\"\n",
    "    \n",
    "    # The placeholders for the data_matrix X, response Y and the intial state for the RNN cell.\n",
    "    x = tf.placeholder(tf.int32, [batch_size, sequence_length])\n",
    "    y = tf.placeholder(tf.int32, [batch_size, sequence_length])\n",
    "    initial_rnn_state = tf.zeros([batch_size, state_size])\n",
    "\n",
    "    # Convert the input into one-hot encoding\n",
    "    inputs = tf.one_hot(x, num_classes)\n",
    "    \n",
    "    # Define the neural cell and network\n",
    "    cell = tf.contrib.rnn.BasicRNNCell(state_size)\n",
    "    cell_output_size = cell.output_size\n",
    "    outputs, final_rnn_state = tf.nn.dynamic_rnn(cell, inputs, initial_state=initial_rnn_state)\n",
    "        \n",
    "    \"\"\"\n",
    "    The outputs is [batch_size, sequence_length, state_size]. As we want to the share the weight W and bias b accross\n",
    "    all the time (sequence) steps, we first flatten the outputs into [batch_size x sequence_length, state_size] before\n",
    "    running through the softmax layer and computing the cross-entropy loss.\n",
    "    \"\"\"\n",
    "    with tf.variable_scope('softmax'):\n",
    "        W = tf.get_variable('W', [cell_output_size, num_classes])\n",
    "        b = tf.get_variable('b', [num_classes], initializer=tf.constant_initializer(0.0))\n",
    "        \n",
    "    flattened_outputs = tf.reshape(outputs, [-1, cell_output_size])\n",
    "    flattened_logits = tf.matmul(flattened_outputs, W) + b\n",
    "    logits = tf.reshape(flattened_logits, [batch_size, sequence_length, num_classes])\n",
    "\n",
    "    # The loss function and training step\n",
    "    loss = tf.reduce_mean(tf.nn.sparse_softmax_cross_entropy_with_logits(labels=y, logits=logits))\n",
    "    train_step = tf.train.AdagradOptimizer(LEARNING_RATE).minimize(loss)\n",
    "    \n",
    "    return x, y, initial_rnn_state, final_rnn_state, loss, train_step"
   ]
  },
  {
   "cell_type": "code",
   "execution_count": 513,
   "metadata": {
    "collapsed": false
   },
   "outputs": [],
   "source": [
    "def train_network(num_epochs, state_size, sequence_length, batch_size=BATCH_SIZE, verbose=True):\n",
    "    \"\"\" Train the RNN graph.\n",
    "    \n",
    "    Args:\n",
    "        num_epochs: int, The number of units in the RNN cell.\n",
    "        state_size: int, The length of the input sequence.\n",
    "        sequence_length: int, The length of the input sequence. This is the same as 'num_steps', which\n",
    "                         is number of steps the error at time T shall be backpropagated in times. See\n",
    "                         https://www.tensorflow.org/tutorials/recurrent#truncated-backpropagation\n",
    "                         \n",
    "        verbose: boolean, Whether we want to print out the rolling average loss for the last 100 steps.\n",
    "\n",
    "    \"\"\"\n",
    "    with tf.Session() as sess:\n",
    "        sess.run(tf.global_variables_initializer())\n",
    "        losses = []\n",
    "        for index, epoch in enumerate(gen_epochs(num_epochs, sequence_length)):\n",
    "            rolling_loss = 0\n",
    "            current_rnn_state = np.zeros((batch_size, state_size))\n",
    "            if verbose:\n",
    "                print \"EPOCH {}\".format(index + 1)\n",
    "            for step, (X, Y) in enumerate(epoch):\n",
    "                training_loss_, current_rnn_state, _ = sess.run([loss, final_rnn_state, train_step],\n",
    "                                                                feed_dict={x:X,\n",
    "                                                                           y:Y,\n",
    "                                                                           initial_rnn_state:current_rnn_state}\n",
    "                                                               )\n",
    "                \n",
    "                losses.append(training_loss_)\n",
    "                rolling_loss += training_loss_\n",
    "                if step % 100 == 0 and step > 0:\n",
    "                    if verbose:\n",
    "                        print \"Rolling average loss after {} steps: {}\".format(step, rolling_loss/100)\n",
    "                    rolling_loss = 0\n",
    "\n",
    "    return losses"
   ]
  },
  {
   "cell_type": "code",
   "execution_count": 514,
   "metadata": {
    "collapsed": false
   },
   "outputs": [
    {
     "name": "stdout",
     "output_type": "stream",
     "text": [
      "EPOCH 1\n",
      "Rolling average loss after 100 steps: 0.597557731867\n",
      "Rolling average loss after 200 steps: 0.503422418535\n",
      "Rolling average loss after 300 steps: 0.488183965683\n",
      "Rolling average loss after 400 steps: 0.485043308735\n",
      "EPOCH 2\n",
      "Rolling average loss after 100 steps: 0.487080459297\n",
      "Rolling average loss after 200 steps: 0.482058372498\n",
      "Rolling average loss after 300 steps: 0.482598736882\n",
      "Rolling average loss after 400 steps: 0.480898693204\n",
      "EPOCH 3\n",
      "Rolling average loss after 100 steps: 0.48488863498\n",
      "Rolling average loss after 200 steps: 0.480253887475\n",
      "Rolling average loss after 300 steps: 0.481050290167\n",
      "Rolling average loss after 400 steps: 0.479663088918\n"
     ]
    },
    {
     "data": {
      "text/plain": [
       "[<matplotlib.lines.Line2D at 0x130511e90>]"
      ]
     },
     "execution_count": 514,
     "metadata": {},
     "output_type": "execute_result"
    },
    {
     "data": {
      "image/png": "[encoded data removed]",
      "text/plain": [
       "<matplotlib.figure.Figure at 0x130f9ea50>"
      ]
     },
     "metadata": {},
     "output_type": "display_data"
    }
   ],
   "source": [
    "tf.reset_default_graph()\n",
    "\n",
    "state_size = 6\n",
    "sequence_length = 10\n",
    "\n",
    "x, y, initial_rnn_state, final_rnn_state, loss, train_step = setup_network(state_size, sequence_length)\n",
    "losses = train_network(3, state_size, sequence_length)\n",
    "plt.plot(losses)"
   ]
  }
 ],
 "metadata": {
  "kernelspec": {
   "display_name": "Python 2",
   "language": "python",
   "name": "python2"
  },
  "language_info": {
   "codemirror_mode": {
    "name": "ipython",
    "version": 2
   },
   "file_extension": ".py",
   "mimetype": "text/x-python",
   "name": "python",
   "nbconvert_exporter": "python",
   "pygments_lexer": "ipython2",
   "version": "2.7.13"
  }
 },
 "nbformat": 4,
 "nbformat_minor": 0
}
