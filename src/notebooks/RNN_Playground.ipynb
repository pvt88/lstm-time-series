{
 "cells": [
  {
   "cell_type": "code",
   "execution_count": 1,
   "metadata": {
    "collapsed": false
   },
   "outputs": [],
   "source": [
    "import numpy as np\n",
    "import tensorflow as tf\n",
    "\n",
    "import matplotlib.pyplot as plt\n",
    "%matplotlib inline"
   ]
  },
  {
   "cell_type": "code",
   "execution_count": 2,
   "metadata": {
    "collapsed": true
   },
   "outputs": [],
   "source": [
    "# Global config variables\n",
    "num_steps = 5 # number of truncated backprop steps ('n' in the discussion above)\n",
    "batch_size = 200\n",
    "num_classes = 2\n",
    "state_size = 4 #size of the hidden unit of a RNN cell\n",
    "learning_rate = 0.1"
   ]
  },
  {
   "cell_type": "markdown",
   "metadata": {
    "collapsed": true
   },
   "source": [
    "The Basic RNN model:\n",
    "\n",
    "$S_t = tanh ( W . [X_t, S_{t-1}] + b_s)$\n",
    "\n",
    "$O_t = \\sigma (U . S_t + b_o)$\n",
    "\n",
    "where\n",
    "\n",
    "$X_t \\in R^{n}$ is the input\n",
    "\n",
    "$S_t \\in R^{h}$ is the internal (memory) state\n",
    "\n",
    "$O_t \\in R^{m}$ is the output\n",
    "\n",
    "$W \\in W^{h \\times (n + h)}$\n",
    "\n",
    "$U \\in W^{m \\times h}$\n"
   ]
  },
  {
   "cell_type": "markdown",
   "metadata": {},
   "source": [
    "## Generate some sample time series data"
   ]
  },
  {
   "cell_type": "code",
   "execution_count": 11,
   "metadata": {
    "collapsed": false
   },
   "outputs": [],
   "source": [
    "def gen_data(size=1000000):\n",
    "    X = np.array(np.random.choice(2, size=(size,)))\n",
    "    Y = []\n",
    "    for i in range(size):\n",
    "        threshold = 0.5\n",
    "        if X[i-3] == 1:\n",
    "            threshold += 0.5\n",
    "        if X[i-8] == 1:\n",
    "            threshold -= 0.25\n",
    "        if np.random.rand() > threshold:\n",
    "            Y.append(0)\n",
    "        else:\n",
    "            Y.append(1)\n",
    "    return X, np.array(Y)\n",
    "\n",
    "def gen_batch(raw_data, batch_size, num_steps):\n",
    "    raw_x, raw_y = raw_data\n",
    "    data_length = len(raw_x)\n",
    "\n",
    "    # partition raw data into batches and stack them vertically in a data matrix\n",
    "    batch_partition_length = data_length // batch_size\n",
    "    data_x = np.zeros([batch_size, batch_partition_length], dtype=np.int32)\n",
    "    data_y = np.zeros([batch_size, batch_partition_length], dtype=np.int32)\n",
    "    for i in range(batch_size):\n",
    "        data_x[i] = raw_x[batch_partition_length * i:batch_partition_length * (i + 1)]\n",
    "        data_y[i] = raw_y[batch_partition_length * i:batch_partition_length * (i + 1)]\n",
    "    # further divide batch partitions into num_steps for truncated backprop\n",
    "    epoch_size = batch_partition_length // num_steps\n",
    "    print \"batch_partition_length={}, epoch_size={}\".format(batch_partition_length,epoch_size)\n",
    "    for i in range(epoch_size):\n",
    "        x = data_x[:, i * num_steps:(i + 1) * num_steps]\n",
    "        y = data_y[:, i * num_steps:(i + 1) * num_steps]\n",
    "        yield (x, y)\n",
    "\n",
    "def gen_epochs(n, num_steps):\n",
    "    for i in range(n):\n",
    "        yield gen_batch(gen_data(), batch_size, num_steps)"
   ]
  },
  {
   "cell_type": "markdown",
   "metadata": {},
   "source": [
    "## Constructing RNN with the LSTM architecture"
   ]
  },
  {
   "cell_type": "code",
   "execution_count": 4,
   "metadata": {
    "collapsed": false
   },
   "outputs": [],
   "source": [
    "x = tf.placeholder(tf.int32, [batch_size, num_steps], name='input_placeholder')\n",
    "y = tf.placeholder(tf.int32, [batch_size, num_steps], name='labels_placeholder')\n",
    "init_state = tf.zeros([batch_size, state_size])\n",
    "\n",
    "# Turn our x placeholder into a list of one-hot tensors:\n",
    "# rnn_inputs is a list of num_steps tensors with shape [batch_size, num_classes]\n",
    "x_one_hot = tf.one_hot(x, num_classes)\n",
    "rnn_inputs = tf.unstack(x_one_hot, axis=1)"
   ]
  },
  {
   "cell_type": "code",
   "execution_count": 5,
   "metadata": {
    "collapsed": false
   },
   "outputs": [],
   "source": [
    "\"\"\"\n",
    "Adding rnn_cells to graph\n",
    "\n",
    "This is a simplified version of the \"static_rnn\" function from Tensorflow's api. See:\n",
    "https://github.com/tensorflow/tensorflow/blob/master/tensorflow/contrib/rnn/python/ops/core_rnn.py#L41\n",
    "Note: In practice, using \"dynamic_rnn\" is a better choice that the \"static_rnn\":\n",
    "https://github.com/tensorflow/tensorflow/blob/master/tensorflow/python/ops/rnn.py#L390\n",
    "\"\"\"\n",
    "cell = tf.contrib.rnn.BasicRNNCell(state_size)\n",
    "rnn_outputs, final_state = tf.contrib.rnn.static_rnn(cell, rnn_inputs, initial_state=init_state)\n",
    "\n",
    "\"\"\"\n",
    "loss and training step\n",
    "\n",
    "Losses is similar to the \"sequence_loss\"\n",
    "function from Tensorflow's API, except that here we are using a list of 2D tensors, instead of a 3D tensor. See:\n",
    "https://github.com/tensorflow/tensorflow/blob/master/tensorflow/contrib/seq2seq/python/ops/loss.py#L30\n",
    "\"\"\"\n",
    "\n",
    "with tf.variable_scope('softmax'):\n",
    "    W = tf.get_variable('W', [state_size, num_classes])\n",
    "    b = tf.get_variable('b', [num_classes], initializer=tf.constant_initializer(0.0))\n",
    "logits = [tf.matmul(rnn_output, W) + b for rnn_output in rnn_outputs]\n",
    "\n",
    "# Turn our y placeholder into a list of labels\n",
    "y_as_list = tf.unstack(y, num=num_steps, axis=1)\n"
   ]
  },
  {
   "cell_type": "code",
   "execution_count": 15,
   "metadata": {
    "collapsed": true
   },
   "outputs": [],
   "source": [
    "#losses and train_step\n",
    "total_loss = tf.reduce_mean([tf.nn.sparse_softmax_cross_entropy_with_logits(logits=logit, labels=label) \\\n",
    "                             for logit, label in zip(logits, y_as_list)])\n",
    "train_step = tf.train.AdagradOptimizer(learning_rate).minimize(total_loss)"
   ]
  },
  {
   "cell_type": "code",
   "execution_count": 18,
   "metadata": {
    "collapsed": true
   },
   "outputs": [],
   "source": [
    "\"\"\"\n",
    "Train the network\n",
    "\"\"\"\n",
    "def train_network(num_epochs, num_steps, state_size=4, verbose=True):\n",
    "    with tf.Session() as sess:\n",
    "        sess.run(tf.global_variables_initializer())\n",
    "        training_losses = []\n",
    "        for idx, epoch in enumerate(gen_epochs(num_epochs, num_steps)):\n",
    "            training_loss = 0\n",
    "            training_state = np.zeros((batch_size, state_size))\n",
    "            if verbose:\n",
    "                print \"EPOCH\".format(idx)\n",
    "            for step, (X, Y) in enumerate(epoch):\n",
    "                #print \"Step {} with X={} and Y={}\".format(step, X.shape, Y.shape)\n",
    "                training_loss_, training_state, _ = sess.run([total_loss, \\\n",
    "                                                              final_state,\n",
    "                                                              train_step],\n",
    "                                                             feed_dict={x:X, y:Y, init_state:training_state})\n",
    "                training_loss += training_loss_\n",
    "                if step % 50 == 0 and step > 0:\n",
    "                    if verbose:\n",
    "                        print \"Average loss at step {} for the last 50 steps: {}\".format(step, training_loss/50)\n",
    "                    training_losses.append(training_loss/50)\n",
    "                    training_loss = 0\n",
    "\n",
    "    return training_losses"
   ]
  },
  {
   "cell_type": "code",
   "execution_count": 17,
   "metadata": {
    "collapsed": false
   },
   "outputs": [
    {
     "name": "stdout",
     "output_type": "stream",
     "text": [
      "('\\nEPOCH', 0)\n",
      "batch_partition_length=5000, epoch_size=1000\n",
      "Average loss at step 50 for the last 50 steps: 0.623421595097\n",
      "Average loss at step 100 for the last 50 steps: 0.541980254054\n",
      "Average loss at step 150 for the last 50 steps: 0.521099997759\n",
      "Average loss at step 200 for the last 50 steps: 0.520702608824\n",
      "Average loss at step 250 for the last 50 steps: 0.517423157096\n",
      "Average loss at step 300 for the last 50 steps: 0.521258957386\n",
      "Average loss at step 350 for the last 50 steps: 0.520309259892\n",
      "Average loss at step 400 for the last 50 steps: 0.52043048799\n",
      "Average loss at step 450 for the last 50 steps: 0.518798231483\n",
      "Average loss at step 500 for the last 50 steps: 0.521707246304\n",
      "Average loss at step 550 for the last 50 steps: 0.519877796173\n",
      "Average loss at step 600 for the last 50 steps: 0.523264604211\n",
      "Average loss at step 650 for the last 50 steps: 0.518482660651\n",
      "Average loss at step 700 for the last 50 steps: 0.51692381084\n",
      "Average loss at step 750 for the last 50 steps: 0.52176653564\n",
      "Average loss at step 800 for the last 50 steps: 0.51788041532\n",
      "Average loss at step 850 for the last 50 steps: 0.520009177923\n",
      "Average loss at step 900 for the last 50 steps: 0.517343226075\n",
      "Average loss at step 950 for the last 50 steps: 0.519320549369\n",
      "('\\nEPOCH', 1)\n",
      "batch_partition_length=5000, epoch_size=1000\n",
      "Average loss at step 50 for the last 50 steps: 0.53269919157\n",
      "Average loss at step 100 for the last 50 steps: 0.516760588884\n",
      "Average loss at step 150 for the last 50 steps: 0.517960262299\n",
      "Average loss at step 200 for the last 50 steps: 0.519746870399\n",
      "Average loss at step 250 for the last 50 steps: 0.519851666093\n",
      "Average loss at step 300 for the last 50 steps: 0.518745984435\n",
      "Average loss at step 350 for the last 50 steps: 0.520561653376\n",
      "Average loss at step 400 for the last 50 steps: 0.52056550324\n",
      "Average loss at step 450 for the last 50 steps: 0.518685011864\n",
      "Average loss at step 500 for the last 50 steps: 0.517325215936\n",
      "Average loss at step 550 for the last 50 steps: 0.513951081634\n",
      "Average loss at step 600 for the last 50 steps: 0.520132023692\n",
      "Average loss at step 650 for the last 50 steps: 0.518413282037\n",
      "Average loss at step 700 for the last 50 steps: 0.518450558186\n",
      "Average loss at step 750 for the last 50 steps: 0.522996003628\n",
      "Average loss at step 800 for the last 50 steps: 0.518240414858\n",
      "Average loss at step 850 for the last 50 steps: 0.520265027881\n",
      "Average loss at step 900 for the last 50 steps: 0.515845627785\n",
      "Average loss at step 950 for the last 50 steps: 0.517471472025\n"
     ]
    },
    {
     "data": {
      "text/plain": [
       "[<matplotlib.lines.Line2D at 0x1225bc990>]"
      ]
     },
     "execution_count": 17,
     "metadata": {},
     "output_type": "execute_result"
    },
    {
     "data": {
      "image/png": "[encoded data removed]",
      "text/plain": [
       "<matplotlib.figure.Figure at 0x12250add0>"
      ]
     },
     "metadata": {},
     "output_type": "display_data"
    }
   ],
   "source": [
    "training_losses = train_network(2,num_steps)\n",
    "plt.plot(training_losses)"
   ]
  },
  {
   "cell_type": "code",
   "execution_count": null,
   "metadata": {
    "collapsed": false
   },
   "outputs": [],
   "source": []
  }
 ],
 "metadata": {
  "kernelspec": {
   "display_name": "Python 2",
   "language": "python",
   "name": "python2"
  },
  "language_info": {
   "codemirror_mode": {
    "name": "ipython",
    "version": 2
   },
   "file_extension": ".py",
   "mimetype": "text/x-python",
   "name": "python",
   "nbconvert_exporter": "python",
   "pygments_lexer": "ipython2",
   "version": "2.7.13"
  }
 },
 "nbformat": 4,
 "nbformat_minor": 0
}
