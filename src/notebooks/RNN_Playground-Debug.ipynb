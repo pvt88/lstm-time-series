{
 "cells": [
  {
   "cell_type": "code",
   "execution_count": 1,
   "metadata": {
    "collapsed": false
   },
   "outputs": [],
   "source": [
    "import numpy as np\n",
    "import tensorflow as tf\n",
    "\n",
    "import matplotlib.pyplot as plt\n",
    "%matplotlib inline"
   ]
  },
  {
   "cell_type": "code",
   "execution_count": 2,
   "metadata": {
    "collapsed": true
   },
   "outputs": [],
   "source": [
    "# Global config variables\n",
    "num_steps = 10 # number of truncated backprop steps ('n' in the discussion above)\n",
    "batch_size = 200\n",
    "num_classes = 2\n",
    "state_size = 4 #size of the hidden unit of a RNN cell\n",
    "learning_rate = 0.1"
   ]
  },
  {
   "cell_type": "markdown",
   "metadata": {
    "collapsed": true
   },
   "source": [
    "The Basic RNN model:\n",
    "\n",
    "$S_t = tanh ( W . [X_t, S_{t-1}] + b_s)$\n",
    "\n",
    "$O_t = \\sigma (U . S_t + b_o)$\n",
    "\n",
    "where\n",
    "\n",
    "$X_t \\in R^{n}$ is the input\n",
    "\n",
    "$S_t \\in R^{h}$ is the internal (memory) state\n",
    "\n",
    "$O_t \\in R^{m}$ is the output\n",
    "\n",
    "$W \\in W^{h \\times (n + h)}$\n",
    "\n",
    "$U \\in W^{m \\times h}$\n"
   ]
  },
  {
   "cell_type": "markdown",
   "metadata": {},
   "source": [
    "## Generate sample time series data"
   ]
  },
  {
   "cell_type": "code",
   "execution_count": 3,
   "metadata": {
    "collapsed": false
   },
   "outputs": [],
   "source": [
    "def gen_data(size=1000000):\n",
    "    X = np.array(np.random.choice(2, size=(size,)))\n",
    "    Y = []\n",
    "    for i in range(size):\n",
    "        threshold = 0.5\n",
    "        if X[i-3] == 1:\n",
    "            threshold += 0.5\n",
    "        if X[i-8] == 1:\n",
    "            threshold -= 0.25\n",
    "        if np.random.rand() > threshold:\n",
    "            Y.append(0)\n",
    "        else:\n",
    "            Y.append(1)\n",
    "    return X, np.array(Y)\n",
    "\n",
    "def gen_batch(raw_data, batch_size, num_steps):\n",
    "    raw_x, raw_y = raw_data\n",
    "    data_length = len(raw_x)\n",
    "\n",
    "    # partition raw data into batches and stack them vertically in a data matrix\n",
    "    batch_partition_length = data_length // batch_size\n",
    "    data_x = np.zeros([batch_size, batch_partition_length], dtype=np.int32)\n",
    "    data_y = np.zeros([batch_size, batch_partition_length], dtype=np.int32)\n",
    "    for i in range(batch_size):\n",
    "        data_x[i] = raw_x[batch_partition_length * i:batch_partition_length * (i + 1)]\n",
    "        data_y[i] = raw_y[batch_partition_length * i:batch_partition_length * (i + 1)]\n",
    "    # further divide batch partitions into num_steps for truncated backprop\n",
    "    epoch_size = batch_partition_length // num_steps\n",
    "    print \"batch_partition_length={}, epoch_size={}\".format(batch_partition_length,epoch_size)\n",
    "    for i in range(epoch_size):\n",
    "        x = data_x[:, i * num_steps:(i + 1) * num_steps]\n",
    "        y = data_y[:, i * num_steps:(i + 1) * num_steps]\n",
    "        yield (x, y)\n",
    "\n",
    "def gen_epochs(n, num_steps):\n",
    "    for i in range(n):\n",
    "        yield gen_batch(gen_data(), batch_size, num_steps)"
   ]
  },
  {
   "cell_type": "markdown",
   "metadata": {},
   "source": [
    "## Constructing RNN"
   ]
  },
  {
   "cell_type": "code",
   "execution_count": 4,
   "metadata": {
    "collapsed": false
   },
   "outputs": [],
   "source": [
    "\"\"\"\n",
    "Placeholders\n",
    "\"\"\"\n",
    "\n",
    "x = tf.placeholder(tf.int32, [batch_size, num_steps], name='input_placeholder')\n",
    "y = tf.placeholder(tf.int32, [batch_size, num_steps], name='labels_placeholder')\n",
    "init_state = tf.zeros([batch_size, state_size])\n",
    "\n",
    "\"\"\"\n",
    "Inputs\n",
    "\"\"\"\n",
    "\n",
    "rnn_inputs = tf.one_hot(x, num_classes)\n",
    "\n",
    "\"\"\"\n",
    "RNN\n",
    "\"\"\"\n",
    "\n",
    "cell = tf.contrib.rnn.BasicRNNCell(state_size)\n",
    "\"\"\"dynamic_rnn dynamically constructs the graph when it is executed. That means graph creation is faster\n",
    "and you can feed batches of variable size \"\"\"\n",
    "rnn_outputs, final_state = tf.nn.dynamic_rnn(cell, rnn_inputs, initial_state=init_state)\n",
    "\n",
    "\"\"\"\n",
    "Predictions, loss, training step\n",
    "\"\"\"\n",
    "\n",
    "with tf.variable_scope('softmax'):\n",
    "    W = tf.get_variable('W', [state_size, num_classes])\n",
    "    b = tf.get_variable('b', [num_classes], initializer=tf.constant_initializer(0.0))\n",
    "    \n",
    "logits = tf.reshape(tf.matmul(tf.reshape(rnn_outputs, [-1, state_size]), W) + b,\n",
    "                    [batch_size, num_steps, num_classes])\n",
    "predictions = tf.nn.softmax(logits)\n",
    "\n",
    "losses = tf.nn.sparse_softmax_cross_entropy_with_logits(labels=y, logits=logits)\n",
    "total_loss = tf.reduce_mean(losses)\n",
    "train_step = tf.train.AdagradOptimizer(learning_rate).minimize(total_loss)"
   ]
  },
  {
   "cell_type": "code",
   "execution_count": 15,
   "metadata": {
    "collapsed": true
   },
   "outputs": [],
   "source": [
    "\"\"\"\n",
    "Train the network\n",
    "\"\"\"\n",
    "def train_network(num_epochs, num_steps, state_size=4, verbose=True):\n",
    "    with tf.Session() as sess:\n",
    "        sess.run(tf.global_variables_initializer())\n",
    "        training_losses = []\n",
    "        for idx, epoch in enumerate(gen_epochs(num_epochs, num_steps)):\n",
    "            training_loss = 0\n",
    "            training_state = np.zeros((batch_size, state_size))\n",
    "            if verbose:\n",
    "                print \"EPOCH {}\".format(idx)\n",
    "            for step, (X, Y) in enumerate(epoch):\n",
    "                rnn_inputs, logits_, predictions_, training_loss_, training_state, _ = sess.run([rnn_inputs, logits,\n",
    "                                                                            predictions,\n",
    "                                                                           total_loss,\n",
    "                                                              final_state,\n",
    "                                                              train_step],\n",
    "                                                             feed_dict={x:X, y:Y, init_state:training_state})\n",
    "                \n",
    "                training_loss += training_loss_\n",
    "                training_losses.append(training_loss_)\n",
    "                if step % 100 == 0 and step > 0:\n",
    "                    if verbose:\n",
    "                        print \"Average loss at step {} for the last 100 steps: {}\".format(step, training_loss/100)\n",
    "                        print \"with logits_={} and predictions_={} and training_state={} and X={} and Y={} and rnn_inputs=\".format( \\\n",
    "                                                                                                         logits_.shape, \\\n",
    "                                                                                                         predictions_.shape, \\\n",
    "                                                                                                         training_state.shape, \\\n",
    "                                                                                                         X.shape, \\\n",
    "                                                                                                                   Y.shape)\n",
    "                        print logits_[0]\n",
    "                        print predictions_[0]\n",
    "                        print Y[0]\n",
    "                        print X[0]\n",
    "                    training_loss = 0\n",
    "\n",
    "    return training_losses"
   ]
  },
  {
   "cell_type": "code",
   "execution_count": 16,
   "metadata": {
    "collapsed": false
   },
   "outputs": [
    {
     "name": "stdout",
     "output_type": "stream",
     "text": [
      "EPOCH 0\n",
      "batch_partition_length=5000, epoch_size=500\n",
      "Average loss at step 100 for the last 100 steps: 0.555459348559\n",
      "with logits_=(200, 10, 2) and predictions_=(200, 10, 2) and training_state=(200, 4) and X=(200, 10) and Y=(200, 10)\n",
      "[[ 0.11048448 -0.47342229]\n",
      " [-0.97906089  0.09823142]\n",
      " [ 0.70985353  0.25790894]\n",
      " [ 0.30823103 -0.67959166]\n",
      " [-1.7409662   0.52920872]\n",
      " [-0.36286911  1.58633578]\n",
      " [ 0.4101145  -0.34339517]\n",
      " [-0.47655866 -0.3221311 ]\n",
      " [ 1.25899684  0.56659651]\n",
      " [ 0.08128902 -0.88949561]]\n",
      "[[ 0.64196587  0.35803413]\n",
      " [ 0.25401875  0.74598122]\n",
      " [ 0.61110145  0.38889849]\n",
      " [ 0.7286576   0.27134237]\n",
      " [ 0.09362336  0.9063766 ]\n",
      " [ 0.12464008  0.87535989]\n",
      " [ 0.67994297  0.32005706]\n",
      " [ 0.46146965  0.53853035]\n",
      " [ 0.66650069  0.33349931]\n",
      " [ 0.72527587  0.27472413]]\n",
      "[1 0 0 0 0 1 0 0 0 0]\n",
      "[0 1 1 0 0 0 0 1 0 0]\n",
      "Average loss at step 200 for the last 100 steps: 0.522970443666\n",
      "with logits_=(200, 10, 2) and predictions_=(200, 10, 2) and training_state=(200, 4) and X=(200, 10) and Y=(200, 10)\n",
      "[[-0.99820817  1.39485633]\n",
      " [-1.5314455   0.12625358]\n",
      " [-0.26133204  1.70665121]\n",
      " [ 0.00697392 -0.30062336]\n",
      " [-0.40879178  0.76760101]\n",
      " [ 0.61519885  0.22803773]\n",
      " [ 0.77533883 -0.35569179]\n",
      " [ 0.59553277 -0.10172844]\n",
      " [ 0.08275497 -0.59732413]\n",
      " [ 0.91138405  0.39806995]]\n",
      "[[ 0.08370309  0.91629684]\n",
      " [ 0.1600711   0.83992887]\n",
      " [ 0.12260567  0.87739432]\n",
      " [ 0.57629865  0.42370132]\n",
      " [ 0.23570138  0.76429856]\n",
      " [ 0.59559911  0.40440089]\n",
      " [ 0.75602907  0.24397098]\n",
      " [ 0.66758025  0.33241972]\n",
      " [ 0.66375637  0.33624363]\n",
      " [ 0.62558305  0.37441695]]\n",
      "[1 1 1 0 1 1 0 0 1 0]\n",
      "[0 1 0 0 0 0 0 0 1 0]\n",
      "Average loss at step 300 for the last 100 steps: 0.521449799836\n",
      "with logits_=(200, 10, 2) and predictions_=(200, 10, 2) and training_state=(200, 4) and X=(200, 10) and Y=(200, 10)\n",
      "[[-0.51092482 -1.1221472 ]\n",
      " [-0.30815712  1.65263748]\n",
      " [-0.36918846 -0.77905214]\n",
      " [-0.27958408  1.3737458 ]\n",
      " [-0.03984797 -0.02971038]\n",
      " [-0.938954    0.35787395]\n",
      " [ 0.62618303  0.31805074]\n",
      " [ 0.53258026 -0.61346811]\n",
      " [-1.44526517  0.71546745]\n",
      " [-0.37938073  1.65522182]]\n",
      "[[ 0.64821959  0.35178041]\n",
      " [ 0.12338108  0.87661886]\n",
      " [ 0.6010552   0.39894482]\n",
      " [ 0.1606594   0.83934057]\n",
      " [ 0.49746558  0.50253433]\n",
      " [ 0.21469934  0.78530061]\n",
      " [ 0.57642931  0.42357069]\n",
      " [ 0.75878835  0.24121161]\n",
      " [ 0.10333253  0.89666742]\n",
      " [ 0.11561747  0.88438255]]\n",
      "[0 1 0 1 0 1 0 0 0 1]\n",
      "[1 0 1 0 0 1 1 0 0 0]\n",
      "Average loss at step 400 for the last 100 steps: 0.51864893645\n",
      "with logits_=(200, 10, 2) and predictions_=(200, 10, 2) and training_state=(200, 4) and X=(200, 10) and Y=(200, 10)\n",
      "[[-0.21875256  1.95206821]\n",
      " [ 0.35076797 -0.39333627]\n",
      " [-0.53082824  0.73800313]\n",
      " [ 0.13854319  0.33092225]\n",
      " [ 0.76879871 -0.56709874]\n",
      " [-0.37037051 -0.5809809 ]\n",
      " [-1.22316253  0.78210056]\n",
      " [-1.20633781  0.74497366]\n",
      " [-1.54318309  0.89105511]\n",
      " [-0.96937484  1.51575172]]\n",
      "[[ 0.10240156  0.89759839]\n",
      " [ 0.67789268  0.32210732]\n",
      " [ 0.21945736  0.78054261]\n",
      " [ 0.45205304  0.54794699]\n",
      " [ 0.79181451  0.20818554]\n",
      " [ 0.55245882  0.44754115]\n",
      " [ 0.11865144  0.88134861]\n",
      " [ 0.12441044  0.87558961]\n",
      " [ 0.08059885  0.91940117]\n",
      " [ 0.07690747  0.92309254]]\n",
      "[1 0 1 1 0 0 1 0 1 1]\n",
      "[0 0 0 1 1 1 1 1 1 0]\n"
     ]
    },
    {
     "data": {
      "text/plain": [
       "[<matplotlib.lines.Line2D at 0x11f109f10>]"
      ]
     },
     "execution_count": 16,
     "metadata": {},
     "output_type": "execute_result"
    },
    {
     "data": {
      "image/png": "[encoded data removed]",
      "text/plain": [
       "<matplotlib.figure.Figure at 0x11e94f390>"
      ]
     },
     "metadata": {},
     "output_type": "display_data"
    }
   ],
   "source": [
    "training_losses = train_network(1,num_steps)\n",
    "plt.plot(training_losses)"
   ]
  },
  {
   "cell_type": "code",
   "execution_count": null,
   "metadata": {
    "collapsed": true
   },
   "outputs": [],
   "source": [
    "sess = tf.Session()"
   ]
  },
  {
   "cell_type": "code",
   "execution_count": null,
   "metadata": {
    "collapsed": false
   },
   "outputs": [],
   "source": [
    "x = tf.zeros([2, 3], dtype=np.int32)\n",
    "sess.run(x)"
   ]
  },
  {
   "cell_type": "code",
   "execution_count": null,
   "metadata": {
    "collapsed": false
   },
   "outputs": [],
   "source": [
    "x_one_hot = tf.one_hot(x, 2)\n",
    "sess.run(x_one_hot)"
   ]
  },
  {
   "cell_type": "code",
   "execution_count": null,
   "metadata": {
    "collapsed": false
   },
   "outputs": [],
   "source": [
    "sess.run(x_one_hot[1])"
   ]
  },
  {
   "cell_type": "code",
   "execution_count": null,
   "metadata": {
    "collapsed": false
   },
   "outputs": [],
   "source": [
    "input = tf.unstack(x_one_hot, axis=1)\n",
    "sess.run(input)"
   ]
  },
  {
   "cell_type": "code",
   "execution_count": null,
   "metadata": {
    "collapsed": false
   },
   "outputs": [],
   "source": [
    "x_one_hot.shape"
   ]
  },
  {
   "cell_type": "code",
   "execution_count": null,
   "metadata": {
    "collapsed": true
   },
   "outputs": [],
   "source": [
    "y = tf.zeros([2, 3], dtype=np.int32)"
   ]
  },
  {
   "cell_type": "code",
   "execution_count": null,
   "metadata": {
    "collapsed": true
   },
   "outputs": [],
   "source": [
    "y_as_list = tf.unstack(y, num=3, axis=1)"
   ]
  },
  {
   "cell_type": "code",
   "execution_count": null,
   "metadata": {
    "collapsed": false
   },
   "outputs": [],
   "source": [
    "sess.run(input[0])"
   ]
  },
  {
   "cell_type": "code",
   "execution_count": null,
   "metadata": {
    "collapsed": false
   },
   "outputs": [],
   "source": [
    "input[0].shape"
   ]
  },
  {
   "cell_type": "code",
   "execution_count": null,
   "metadata": {
    "collapsed": true
   },
   "outputs": [],
   "source": []
  }
 ],
 "metadata": {
  "kernelspec": {
   "display_name": "Python 2",
   "language": "python",
   "name": "python2"
  },
  "language_info": {
   "codemirror_mode": {
    "name": "ipython",
    "version": 2
   },
   "file_extension": ".py",
   "mimetype": "text/x-python",
   "name": "python",
   "nbconvert_exporter": "python",
   "pygments_lexer": "ipython2",
   "version": "2.7.13"
  }
 },
 "nbformat": 4,
 "nbformat_minor": 0
}
