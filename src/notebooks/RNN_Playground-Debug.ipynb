{
 "cells": [
  {
   "cell_type": "code",
   "execution_count": 226,
   "metadata": {
    "collapsed": false
   },
   "outputs": [],
   "source": [
    "import numpy as np\n",
    "import tensorflow as tf\n",
    "\n",
    "import matplotlib.pyplot as plt\n",
    "%matplotlib inline"
   ]
  },
  {
   "cell_type": "code",
   "execution_count": 227,
   "metadata": {
    "collapsed": true
   },
   "outputs": [],
   "source": [
    "# Global config variables\n",
    "sequence_length = 10 # number of truncated backprop steps ('n' in the discussion above)\n",
    "batch_size = 200\n",
    "num_classes = 2\n",
    "state_size = 4 #size of the hidden unit of a RNN cell\n",
    "learning_rate = 0.1"
   ]
  },
  {
   "cell_type": "markdown",
   "metadata": {
    "collapsed": true
   },
   "source": [
    "The Basic RNN model:\n",
    "\n",
    "$S_t = tanh ( W . [X_t, S_{t-1}] + b_s)$\n",
    "\n",
    "$O_t = \\sigma (U . S_t + b_o)$\n",
    "\n",
    "where\n",
    "\n",
    "$X_t \\in R^{n}$ is the input\n",
    "\n",
    "$S_t \\in R^{h}$ is the internal (memory) state\n",
    "\n",
    "$O_t \\in R^{m}$ is the output\n",
    "\n",
    "$W \\in W^{h \\times (n + h)}$\n",
    "\n",
    "$U \\in W^{m \\times h}$\n"
   ]
  },
  {
   "cell_type": "markdown",
   "metadata": {},
   "source": [
    "## Generate sample time series data"
   ]
  },
  {
   "cell_type": "code",
   "execution_count": 228,
   "metadata": {
    "collapsed": false
   },
   "outputs": [],
   "source": [
    "def gen_data(size=1000000):\n",
    "    X = np.array(np.random.choice(2, size=(size,)))\n",
    "    Y = []\n",
    "    for i in range(size):\n",
    "        threshold = 0.5\n",
    "        if X[i-3] == 1:\n",
    "            threshold += 0.5\n",
    "        if X[i-3] == 1:\n",
    "            threshold -= 0.25\n",
    "        if np.random.rand() > threshold:\n",
    "            Y.append(0)\n",
    "        else:\n",
    "            Y.append(1)\n",
    "    return X, np.array(Y)\n",
    "\n",
    "def gen_batch(raw_data, batch_size, sequence_length):\n",
    "    raw_x, raw_y = raw_data\n",
    "    data_length = len(raw_x)\n",
    "\n",
    "    # partition raw data into batches and stack them vertically in a data matrix\n",
    "    batch_partition_length = data_length // batch_size\n",
    "    data_x = np.zeros([batch_size, batch_partition_length], dtype=np.int32)\n",
    "    data_y = np.zeros([batch_size, batch_partition_length], dtype=np.int32)\n",
    "    for i in range(batch_size):\n",
    "        data_x[i] = raw_x[batch_partition_length * i:batch_partition_length * (i + 1)]\n",
    "        data_y[i] = raw_y[batch_partition_length * i:batch_partition_length * (i + 1)]\n",
    "    # further divide batch partitions into sequence_length for truncated backprop\n",
    "    epoch_size = batch_partition_length // sequence_length\n",
    "    for i in range(epoch_size):\n",
    "        x = data_x[:, i * sequence_length:(i + 1) * sequence_length]\n",
    "        y = data_y[:, i * sequence_length:(i + 1) * sequence_length]\n",
    "        yield (x, y)\n",
    "\n",
    "def gen_epochs(n, sequence_length):\n",
    "    for i in range(n):\n",
    "        yield gen_batch(gen_data(), batch_size, sequence_length)"
   ]
  },
  {
   "cell_type": "markdown",
   "metadata": {},
   "source": [
    "## Constructing RNN"
   ]
  },
  {
   "cell_type": "code",
   "execution_count": 229,
   "metadata": {
    "collapsed": false
   },
   "outputs": [],
   "source": [
    "x = tf.placeholder(tf.int32, [batch_size, sequence_length], name='input_placeholder')\n",
    "y = tf.placeholder(tf.int32, [batch_size, sequence_length], name='labels_placeholder')\n",
    "init_state = tf.zeros([batch_size, state_size])\n",
    "\n",
    "\"\"\"\n",
    "Inputs\n",
    "\"\"\"\n",
    "rnn_inputs = tf.one_hot(x, num_classes)\n",
    "\n",
    "\"\"\"\n",
    "RNN\n",
    "\"\"\"\n",
    "\n",
    "cell = tf.contrib.rnn.BasicRNNCell(state_size)\n",
    "rnn_outputs, final_state = tf.nn.dynamic_rnn(cell, rnn_inputs, initial_state=init_state)\n",
    "\n",
    "\"\"\"\n",
    "Predictions, loss, training step\n",
    "\"\"\"\n",
    "\n",
    "with tf.variable_scope('softmax'):\n",
    "    W = tf.get_variable('W', [state_size, num_classes])\n",
    "    b = tf.get_variable('b', [num_classes], initializer=tf.constant_initializer(0.0))\n",
    "\n",
    "logits = tf.reshape(tf.matmul(tf.reshape(rnn_outputs, [-1, state_size]), W) + b,\n",
    "                    [batch_size, sequence_length, num_classes])\n",
    "predictions = tf.nn.softmax(logits)\n",
    "\n",
    "losses = tf.nn.sparse_softmax_cross_entropy_with_logits(labels=y, logits=logits)\n",
    "total_loss = tf.reduce_mean(losses)\n",
    "train_step = tf.train.AdagradOptimizer(learning_rate).minimize(total_loss)"
   ]
  },
  {
   "cell_type": "code",
   "execution_count": null,
   "metadata": {
    "collapsed": true
   },
   "outputs": [],
   "source": []
  },
  {
   "cell_type": "code",
   "execution_count": 230,
   "metadata": {
    "collapsed": false
   },
   "outputs": [],
   "source": [
    "\"\"\"\n",
    "Train the network\n",
    "\"\"\"\n",
    "def train_network(num_epochs, sequence_length, state_size=4, verbose=True):\n",
    "    with tf.Session() as sess:\n",
    "        sess.run(tf.global_variables_initializer())\n",
    "        training_losses = []\n",
    "        for idx, epoch in enumerate(gen_epochs(num_epochs, sequence_length)):\n",
    "            training_loss = 0\n",
    "            training_state = np.zeros((batch_size, state_size))\n",
    "            if verbose:\n",
    "                print \"EPOCH {}\".format(idx)\n",
    "            for step, (X, Y) in enumerate(epoch):\n",
    "                rnn_outputs_, rnn_inputs_, logits_, predictions_, training_loss_, training_state, _ = sess.run([rnn_outputs,rnn_inputs, logits,\n",
    "                                                                            predictions,\n",
    "                                                                           total_loss,\n",
    "                                                              final_state,\n",
    "                                                              train_step],\n",
    "                                                             feed_dict={x:X, y:Y, init_state:training_state})\n",
    "                \n",
    "                training_loss += training_loss_\n",
    "                training_losses.append(training_loss_)\n",
    "                if step % 100 == 0 and step > 0:\n",
    "                    if verbose:\n",
    "                        print \"Average loss at step {} for the last 100 steps: {}\".format(step, training_loss/100)\n",
    "                        \n",
    "                        print \"with logits_={}, predictions_={}, training_state={}, X={}, Y={} and rnn_inputs={} and rnn_outputs={}\".format( \\\n",
    "                                                                                                         logits_.shape, \\\n",
    "                                                                                                         predictions_.shape, \\\n",
    "                                                                                                         training_state.shape, \\\n",
    "                                                                                                         X.shape, \\\n",
    "                                                                                                                   Y.shape, \\\n",
    "                                                                                                                            rnn_inputs_.shape,\n",
    "                                                                                                                                           rnn_outputs_.shape)\n",
    "                        \n",
    "                        print rnn_outputs_[0]\n",
    "                        #print tf.reshape(rnn_outputs_, [-1, state_size])\n",
    "                        print rnn_inputs_[0]\n",
    "                        #print Y[0]\n",
    "                        #print X[0]\n",
    "                        \n",
    "                    training_loss = 0\n",
    "\n",
    "    return training_losses, rnn_outputs"
   ]
  },
  {
   "cell_type": "code",
   "execution_count": 231,
   "metadata": {
    "collapsed": false
   },
   "outputs": [
    {
     "name": "stdout",
     "output_type": "stream",
     "text": [
      "EPOCH 0\n",
      "Average loss at step 100 for the last 100 steps: 0.668837966919\n",
      "with logits_=(200, 10, 2), predictions_=(200, 10, 2), training_state=(200, 4), X=(200, 10), Y=(200, 10) and rnn_inputs=(200, 10, 2) and rnn_outputs=(200, 10, 4)\n",
      "[[-0.68214297  0.18028188  0.83097148 -0.52902544]\n",
      " [-0.21863183 -0.25613251  0.42533121 -0.76614547]\n",
      " [-0.18928026 -0.05800383 -0.06939553 -0.3821156 ]\n",
      " [-0.33573541  0.33306256 -0.21569587 -0.48532093]\n",
      " [-0.32462204  0.5903312   0.04197022 -0.58653641]\n",
      " [-0.36017233  0.54334152  0.37121275 -0.71721548]\n",
      " [-0.31659931  0.33242807  0.49074826 -0.73676002]\n",
      " [-0.28950649  0.15133333  0.40507713 -0.68751478]\n",
      " [-0.45016006  0.23995771  0.70654863  0.34325102]\n",
      " [-0.54688168 -0.34830466  0.28196591 -0.90074575]]\n",
      "[[ 0.  1.]\n",
      " [ 1.  0.]\n",
      " [ 1.  0.]\n",
      " [ 1.  0.]\n",
      " [ 1.  0.]\n",
      " [ 1.  0.]\n",
      " [ 1.  0.]\n",
      " [ 1.  0.]\n",
      " [ 0.  1.]\n",
      " [ 1.  0.]]\n",
      "Average loss at step 200 for the last 100 steps: 0.63440336287\n",
      "with logits_=(200, 10, 2), predictions_=(200, 10, 2), training_state=(200, 4), X=(200, 10), Y=(200, 10) and rnn_inputs=(200, 10, 2) and rnn_outputs=(200, 10, 4)\n",
      "[[-0.6031211  -0.58194339  0.23259625  0.28642884]\n",
      " [-0.40970096 -0.45815518  0.10434487  0.439852  ]\n",
      " [-0.35408676 -0.32595915 -0.56350321 -0.60286975]\n",
      " [ 0.04599884  0.60046744 -0.63351113  0.01278964]\n",
      " [-0.71151996  0.74038631  0.54107505  0.18288942]\n",
      " [-0.50475991 -0.1073679   0.84905636 -0.51157534]\n",
      " [ 0.11979835 -0.38598341  0.04085048 -0.68135685]\n",
      " [-0.35130388  0.23693751  0.21106286  0.72607201]\n",
      " [-0.5779621  -0.20908467 -0.09329248 -0.87989706]\n",
      " [ 0.03242223  0.39452729  0.32742086  0.72331643]]\n",
      "[[ 0.  1.]\n",
      " [ 0.  1.]\n",
      " [ 1.  0.]\n",
      " [ 1.  0.]\n",
      " [ 0.  1.]\n",
      " [ 0.  1.]\n",
      " [ 1.  0.]\n",
      " [ 0.  1.]\n",
      " [ 1.  0.]\n",
      " [ 0.  1.]]\n",
      "Average loss at step 300 for the last 100 steps: 0.630273637772\n",
      "with logits_=(200, 10, 2), predictions_=(200, 10, 2), training_state=(200, 4), X=(200, 10), Y=(200, 10) and rnn_inputs=(200, 10, 2) and rnn_outputs=(200, 10, 4)\n",
      "[[-0.56496215 -0.28379887  0.76132619 -0.44778994]\n",
      " [-0.01377037 -0.46848708  0.49936965  0.31055814]\n",
      " [-0.58651209 -0.55318856  0.26505554  0.31824392]\n",
      " [-0.13310581 -0.47751242 -0.53134352 -0.54038572]\n",
      " [-0.02999565  0.53583652 -0.69634897  0.07656209]\n",
      " [-0.69574779  0.68451685  0.47134164  0.23453119]\n",
      " [-0.21099265 -0.11245241  0.35873586 -0.91695964]\n",
      " [ 0.24666695  0.23015641 -0.22989859 -0.42503411]\n",
      " [-0.55818969  0.55550069  0.44520175  0.43488085]\n",
      " [-0.5674063  -0.28327915  0.76128656 -0.44755971]]\n",
      "[[ 0.  1.]\n",
      " [ 0.  1.]\n",
      " [ 0.  1.]\n",
      " [ 1.  0.]\n",
      " [ 1.  0.]\n",
      " [ 0.  1.]\n",
      " [ 1.  0.]\n",
      " [ 1.  0.]\n",
      " [ 0.  1.]\n",
      " [ 0.  1.]]\n",
      "Average loss at step 400 for the last 100 steps: 0.628736001849\n",
      "with logits_=(200, 10, 2), predictions_=(200, 10, 2), training_state=(200, 4), X=(200, 10), Y=(200, 10) and rnn_inputs=(200, 10, 2) and rnn_outputs=(200, 10, 4)\n",
      "[[-0.30207458 -0.2144828   0.2922962  -0.89958346]\n",
      " [ 0.0972557   0.07555988  0.36663383  0.56228131]\n",
      " [-0.7123701  -0.40369281  0.54165143 -0.03810227]\n",
      " [ 0.13328263 -0.51643115 -0.31935287 -0.57866144]\n",
      " [-0.11718311  0.43250108 -0.66273999  0.06660277]\n",
      " [-0.49192104  0.64779162 -0.25703973 -0.60531485]\n",
      " [ 0.02542285  0.6555444   0.05067557 -0.69738293]\n",
      " [-0.1285769   0.62170649  0.13922277 -0.72837681]\n",
      " [-0.22947234  0.47304034  0.70757604  0.05872756]\n",
      " [-0.25740081 -0.23760922  0.28760326 -0.87550682]]\n",
      "[[ 1.  0.]\n",
      " [ 0.  1.]\n",
      " [ 0.  1.]\n",
      " [ 1.  0.]\n",
      " [ 1.  0.]\n",
      " [ 1.  0.]\n",
      " [ 1.  0.]\n",
      " [ 1.  0.]\n",
      " [ 0.  1.]\n",
      " [ 1.  0.]]\n"
     ]
    },
    {
     "data": {
      "text/plain": [
       "[<matplotlib.lines.Line2D at 0x120f3d7d0>]"
      ]
     },
     "execution_count": 231,
     "metadata": {},
     "output_type": "execute_result"
    },
    {
     "data": {
      "image/png": "[encoded data removed]",
      "text/plain": [
       "<matplotlib.figure.Figure at 0x121063350>"
      ]
     },
     "metadata": {},
     "output_type": "display_data"
    }
   ],
   "source": [
    "training_losses, final_outputs = train_network(1,sequence_length)\n",
    "plt.plot(training_losses)"
   ]
  },
  {
   "cell_type": "code",
   "execution_count": 238,
   "metadata": {
    "collapsed": true
   },
   "outputs": [],
   "source": [
    "#tf.reset_default_graph()\n",
    "sess = tf.Session()"
   ]
  },
  {
   "cell_type": "code",
   "execution_count": 240,
   "metadata": {
    "collapsed": false
   },
   "outputs": [
    {
     "data": {
      "text/plain": [
       "<tf.Tensor 'rnn/transpose:0' shape=(200, 10, 4) dtype=float32>"
      ]
     },
     "execution_count": 240,
     "metadata": {},
     "output_type": "execute_result"
    }
   ],
   "source": [
    "final_outputs"
   ]
  },
  {
   "cell_type": "code",
   "execution_count": 234,
   "metadata": {
    "collapsed": false
   },
   "outputs": [
    {
     "data": {
      "text/plain": [
       "<tf.Tensor 'rnn/transpose:0' shape=(200, 10, 4) dtype=float32>"
      ]
     },
     "execution_count": 234,
     "metadata": {},
     "output_type": "execute_result"
    }
   ],
   "source": [
    "final_outputs"
   ]
  },
  {
   "cell_type": "code",
   "execution_count": 235,
   "metadata": {
    "collapsed": false
   },
   "outputs": [
    {
     "data": {
      "text/plain": [
       "<tf.Tensor 'strided_slice:0' shape=(10, 4) dtype=float32>"
      ]
     },
     "execution_count": 235,
     "metadata": {},
     "output_type": "execute_result"
    }
   ],
   "source": [
    "final_outputs[0]"
   ]
  },
  {
   "cell_type": "code",
   "execution_count": 263,
   "metadata": {
    "collapsed": false
   },
   "outputs": [
    {
     "data": {
      "text/plain": [
       "(20, 4)"
      ]
     },
     "execution_count": 263,
     "metadata": {},
     "output_type": "execute_result"
    }
   ],
   "source": [
    "sess.run(tf.reshape(c, [-1, 4])).shape"
   ]
  },
  {
   "cell_type": "code",
   "execution_count": 260,
   "metadata": {
    "collapsed": false
   },
   "outputs": [],
   "source": [
    "c = tf.constant(n)"
   ]
  },
  {
   "cell_type": "code",
   "execution_count": 276,
   "metadata": {
    "collapsed": false
   },
   "outputs": [
    {
     "data": {
      "text/plain": [
       "array([[[-0.30207458, -0.2144828 ,  0.2922962 , -0.89958346],\n",
       "        [ 0.0972557 ,  0.07555988,  0.36663383,  0.56228131],\n",
       "        [-0.7123701 , -0.40369281,  0.54165143, -0.03810227],\n",
       "        [ 0.13328263, -0.51643115, -0.31935287, -0.57866144],\n",
       "        [-0.11718311,  0.43250108, -0.66273999,  0.06660277],\n",
       "        [-0.49192104,  0.64779162, -0.25703973, -0.60531485],\n",
       "        [ 0.02542285,  0.6555444 ,  0.05067557, -0.69738293],\n",
       "        [-0.1285769 ,  0.62170649,  0.13922277, -0.72837681],\n",
       "        [-0.22947234,  0.47304034,  0.70757604,  0.05872756],\n",
       "        [-0.25740081, -0.23760922,  0.28760326, -0.87550682]],\n",
       "\n",
       "       [[-0.30207458, -0.2144828 ,  0.2922962 , -0.89958346],\n",
       "        [ 0.0972557 ,  0.07555988,  0.36663383,  0.56228131],\n",
       "        [-0.7123701 , -0.40369281,  0.54165143, -0.03810227],\n",
       "        [ 0.13328263, -0.51643115, -0.31935287, -0.57866144],\n",
       "        [-0.11718311,  0.43250108, -0.66273999,  0.06660277],\n",
       "        [-0.49192104,  0.64779162, -0.25703973, -0.60531485],\n",
       "        [ 0.02542285,  0.6555444 ,  0.05067557, -0.69738293],\n",
       "        [-0.1285769 ,  0.62170649,  0.13922277, -0.72837681],\n",
       "        [-0.22947234,  0.47304034,  0.70757604,  0.05872756],\n",
       "        [-0.25740081, -0.23760922,  0.28760326, -0.87550682]]], dtype=float32)"
      ]
     },
     "execution_count": 276,
     "metadata": {},
     "output_type": "execute_result"
    }
   ],
   "source": [
    "sess.run(c)"
   ]
  },
  {
   "cell_type": "code",
   "execution_count": 250,
   "metadata": {
    "collapsed": false
   },
   "outputs": [],
   "source": [
    "d = [[-0.30207458,-0.2144828,0.2922962,-0.89958346]\n",
    ",[0.0972557,0.07555988,0.36663383,0.56228131]\n",
    ",[-0.7123701,-0.40369281,0.54165143,-0.03810227]\n",
    ",[0.13328263,-0.51643115,-0.31935287,-0.57866144]\n",
    ",[-0.11718311,0.43250108,-0.66273999,0.06660277]\n",
    ",[-0.49192104,0.64779162,-0.25703973,-0.60531485]\n",
    ",[0.02542285,0.6555444,0.05067557,-0.69738293]\n",
    ",[-0.1285769,0.62170649,0.13922277,-0.72837681]\n",
    ",[-0.22947234,0.47304034,0.70757604,0.05872756]\n",
    ",[-0.25740081,-0.23760922,0.28760326,-0.87550682]]"
   ]
  },
  {
   "cell_type": "code",
   "execution_count": 274,
   "metadata": {
    "collapsed": false
   },
   "outputs": [
    {
     "data": {
      "text/plain": [
       "(4, 2)"
      ]
     },
     "execution_count": 274,
     "metadata": {},
     "output_type": "execute_result"
    }
   ],
   "source": [
    "w = tf.constant([[1.0, 0.0],[0.0, 0.0],[0.0, 0.0],[0.0, 1.0]])\n",
    "sess.run(w).shape"
   ]
  },
  {
   "cell_type": "code",
   "execution_count": 279,
   "metadata": {
    "collapsed": false
   },
   "outputs": [
    {
     "data": {
      "text/plain": [
       "array([ 1.,  0.], dtype=float32)"
      ]
     },
     "execution_count": 279,
     "metadata": {},
     "output_type": "execute_result"
    }
   ],
   "source": [
    "b = tf.constant([1.0, 0.0])\n",
    "sess.run(b)"
   ]
  },
  {
   "cell_type": "code",
   "execution_count": 286,
   "metadata": {
    "collapsed": false
   },
   "outputs": [
    {
     "data": {
      "text/plain": [
       "array([[1, 0],\n",
       "       [1, 0],\n",
       "       [1, 0],\n",
       "       [1, 0],\n",
       "       [1, 0],\n",
       "       [1, 0],\n",
       "       [1, 0],\n",
       "       [1, 0],\n",
       "       [1, 0],\n",
       "       [1, 0]], dtype=int32)"
      ]
     },
     "execution_count": 286,
     "metadata": {},
     "output_type": "execute_result"
    }
   ],
   "source": [
    "y_ = [[1, 0]\n",
    ",[1, 0]\n",
    ",[1, 0]\n",
    ",[1, 0]\n",
    ",[1, 0]\n",
    ",[1, 0]\n",
    ",[1, 0]\n",
    ",[1, 0]\n",
    ",[1, 0]\n",
    ",[1, 0]]\n",
    "y = tf.constant(y_)\n",
    "sess.run(y)"
   ]
  },
  {
   "cell_type": "code",
   "execution_count": 300,
   "metadata": {
    "collapsed": false
   },
   "outputs": [],
   "source": [
    "logits = tf.reshape(tf.matmul(tf.reshape(c, [-1, 4]), w) + b,\n",
    "                        [2, 10, 2])\n",
    "\n",
    "losses = tf.nn.sparse_softmax_cross_entropy_with_logits(labels=y, logits=logits)\n",
    "total_loss = tf.reduce_mean(losses)"
   ]
  },
  {
   "cell_type": "code",
   "execution_count": 301,
   "metadata": {
    "collapsed": false
   },
   "outputs": [
    {
     "data": {
      "text/plain": [
       "(2, 10, 2)"
      ]
     },
     "execution_count": 301,
     "metadata": {},
     "output_type": "execute_result"
    }
   ],
   "source": [
    "sess.run(logits).shape"
   ]
  },
  {
   "cell_type": "code",
   "execution_count": 288,
   "metadata": {
    "collapsed": false
   },
   "outputs": [
    {
     "data": {
      "text/plain": [
       "array([[ 1.78182852,  0.46101606],\n",
       "       [ 0.86921769,  0.16595042],\n",
       "       [ 1.18231606,  0.28400707],\n",
       "       [ 1.88710284,  0.18393439],\n",
       "       [ 1.11108613,  0.1808821 ],\n",
       "       [ 1.78182852,  0.46101606],\n",
       "       [ 0.86921769,  0.16595042],\n",
       "       [ 1.18231606,  0.28400707],\n",
       "       [ 1.88710284,  0.18393439],\n",
       "       [ 1.11108613,  0.1808821 ]], dtype=float32)"
      ]
     },
     "execution_count": 288,
     "metadata": {},
     "output_type": "execute_result"
    }
   ],
   "source": [
    "sess.run(losses)"
   ]
  },
  {
   "cell_type": "code",
   "execution_count": 289,
   "metadata": {
    "collapsed": false
   },
   "outputs": [
    {
     "data": {
      "text/plain": [
       "0.81073409"
      ]
     },
     "execution_count": 289,
     "metadata": {},
     "output_type": "execute_result"
    }
   ],
   "source": [
    "sess.run(total_loss)"
   ]
  },
  {
   "cell_type": "code",
   "execution_count": 293,
   "metadata": {
    "collapsed": false
   },
   "outputs": [],
   "source": [
    "logits = tf.matmul(tf.reshape(c, [-1, 4]), w) + b"
   ]
  },
  {
   "cell_type": "code",
   "execution_count": 304,
   "metadata": {
    "collapsed": false
   },
   "outputs": [
    {
     "data": {
      "text/plain": [
       "(2, 10, 2)"
      ]
     },
     "execution_count": 304,
     "metadata": {},
     "output_type": "execute_result"
    }
   ],
   "source": [
    "sess.run(logits).shape"
   ]
  },
  {
   "cell_type": "code",
   "execution_count": 306,
   "metadata": {
    "collapsed": false
   },
   "outputs": [
    {
     "data": {
      "text/plain": [
       "(10, 2)"
      ]
     },
     "execution_count": 306,
     "metadata": {},
     "output_type": "execute_result"
    }
   ],
   "source": [
    "y_flat = tf.reshape(y,[-1,2])\n",
    "sess.run(y).shape"
   ]
  },
  {
   "cell_type": "code",
   "execution_count": 305,
   "metadata": {
    "collapsed": false
   },
   "outputs": [],
   "source": [
    "losses = tf.nn.sparse_softmax_cross_entropy_with_logits(labels=y, logits=logits)"
   ]
  },
  {
   "cell_type": "code",
   "execution_count": null,
   "metadata": {
    "collapsed": true
   },
   "outputs": [],
   "source": []
  }
 ],
 "metadata": {
  "kernelspec": {
   "display_name": "Python 2",
   "language": "python",
   "name": "python2"
  },
  "language_info": {
   "codemirror_mode": {
    "name": "ipython",
    "version": 2
   },
   "file_extension": ".py",
   "mimetype": "text/x-python",
   "name": "python",
   "nbconvert_exporter": "python",
   "pygments_lexer": "ipython2",
   "version": "2.7.13"
  }
 },
 "nbformat": 4,
 "nbformat_minor": 0
}
